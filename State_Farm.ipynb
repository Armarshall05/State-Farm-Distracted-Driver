{
 "cells": [
  {
   "cell_type": "markdown",
   "metadata": {},
   "source": [
    "# Package Import & Initial Setup"
   ]
  },
  {
   "cell_type": "code",
   "execution_count": 1,
   "metadata": {
    "collapsed": false
   },
   "outputs": [
    {
     "data": {
      "text/plain": [
       "'C:\\\\cygwin64\\\\home\\\\Andrew\\\\ml\\\\state'"
      ]
     },
     "execution_count": 1,
     "metadata": {},
     "output_type": "execute_result"
    }
   ],
   "source": [
    "%pwd"
   ]
  },
  {
   "cell_type": "code",
   "execution_count": 2,
   "metadata": {
    "collapsed": true
   },
   "outputs": [],
   "source": [
    "import os, sys\n",
    "current_dir = os.getcwd()\n",
    "LESSON_HOME_DIR = current_dir\n",
    "DATA_HOME_DIR = current_dir+'/data/drivers/'"
   ]
  },
  {
   "cell_type": "code",
   "execution_count": 3,
   "metadata": {
    "collapsed": false
   },
   "outputs": [
    {
     "name": "stderr",
     "output_type": "stream",
     "text": [
      "Using TensorFlow backend.\n"
     ]
    },
    {
     "ename": "ModuleNotFoundError",
     "evalue": "No module named 'tensorflow'",
     "output_type": "error",
     "traceback": [
      "\u001b[0;31m---------------------------------------------------------------------------\u001b[0m",
      "\u001b[0;31mModuleNotFoundError\u001b[0m                       Traceback (most recent call last)",
      "\u001b[0;32m<ipython-input-3-62451c935f55>\u001b[0m in \u001b[0;36m<module>\u001b[0;34m()\u001b[0m\n\u001b[1;32m      2\u001b[0m \u001b[1;33m\u001b[0m\u001b[0m\n\u001b[1;32m      3\u001b[0m \u001b[1;32mfrom\u001b[0m \u001b[0mutils\u001b[0m \u001b[1;32mimport\u001b[0m \u001b[1;33m*\u001b[0m\u001b[1;33m\u001b[0m\u001b[0m\n\u001b[0;32m----> 4\u001b[0;31m \u001b[1;32mfrom\u001b[0m \u001b[0mvgg16\u001b[0m \u001b[1;32mimport\u001b[0m \u001b[0mVgg16\u001b[0m\u001b[1;33m\u001b[0m\u001b[0m\n\u001b[0m\u001b[1;32m      5\u001b[0m \u001b[1;32mimport\u001b[0m \u001b[0mnumpy\u001b[0m \u001b[1;32mas\u001b[0m \u001b[0mnp\u001b[0m\u001b[1;33m\u001b[0m\u001b[0m\n\u001b[1;32m      6\u001b[0m \u001b[1;32mfrom\u001b[0m \u001b[0mglob\u001b[0m \u001b[1;32mimport\u001b[0m \u001b[0mglob\u001b[0m\u001b[1;33m\u001b[0m\u001b[0m\n",
      "\u001b[0;32mC:\\cygwin64\\home\\Andrew\\ml\\state\\vgg16.py\u001b[0m in \u001b[0;36m<module>\u001b[0;34m()\u001b[0m\n\u001b[1;32m      7\u001b[0m \u001b[1;32mfrom\u001b[0m \u001b[0mscipy\u001b[0m\u001b[1;33m.\u001b[0m\u001b[0mndimage\u001b[0m\u001b[1;33m.\u001b[0m\u001b[0minterpolation\u001b[0m \u001b[1;32mimport\u001b[0m \u001b[0mzoom\u001b[0m\u001b[1;33m\u001b[0m\u001b[0m\n\u001b[1;32m      8\u001b[0m \u001b[1;33m\u001b[0m\u001b[0m\n\u001b[0;32m----> 9\u001b[0;31m \u001b[1;32mfrom\u001b[0m \u001b[0mkeras\u001b[0m \u001b[1;32mimport\u001b[0m \u001b[0mbackend\u001b[0m \u001b[1;32mas\u001b[0m \u001b[0mK\u001b[0m\u001b[1;33m\u001b[0m\u001b[0m\n\u001b[0m\u001b[1;32m     10\u001b[0m \u001b[1;32mfrom\u001b[0m \u001b[0mkeras\u001b[0m\u001b[1;33m.\u001b[0m\u001b[0mlayers\u001b[0m\u001b[1;33m.\u001b[0m\u001b[0mnormalization\u001b[0m \u001b[1;32mimport\u001b[0m \u001b[0mBatchNormalization\u001b[0m\u001b[1;33m\u001b[0m\u001b[0m\n\u001b[1;32m     11\u001b[0m \u001b[1;32mfrom\u001b[0m \u001b[0mkeras\u001b[0m\u001b[1;33m.\u001b[0m\u001b[0mutils\u001b[0m\u001b[1;33m.\u001b[0m\u001b[0mdata_utils\u001b[0m \u001b[1;32mimport\u001b[0m \u001b[0mget_file\u001b[0m\u001b[1;33m\u001b[0m\u001b[0m\n",
      "\u001b[0;32mC:\\Users\\Andrew\\Anaconda3\\lib\\site-packages\\keras\\__init__.py\u001b[0m in \u001b[0;36m<module>\u001b[0;34m()\u001b[0m\n\u001b[1;32m      1\u001b[0m \u001b[1;32mfrom\u001b[0m \u001b[0m__future__\u001b[0m \u001b[1;32mimport\u001b[0m \u001b[0mabsolute_import\u001b[0m\u001b[1;33m\u001b[0m\u001b[0m\n\u001b[1;32m      2\u001b[0m \u001b[1;33m\u001b[0m\u001b[0m\n\u001b[0;32m----> 3\u001b[0;31m \u001b[1;32mfrom\u001b[0m \u001b[1;33m.\u001b[0m \u001b[1;32mimport\u001b[0m \u001b[0mactivations\u001b[0m\u001b[1;33m\u001b[0m\u001b[0m\n\u001b[0m\u001b[1;32m      4\u001b[0m \u001b[1;32mfrom\u001b[0m \u001b[1;33m.\u001b[0m \u001b[1;32mimport\u001b[0m \u001b[0mapplications\u001b[0m\u001b[1;33m\u001b[0m\u001b[0m\n\u001b[1;32m      5\u001b[0m \u001b[1;32mfrom\u001b[0m \u001b[1;33m.\u001b[0m \u001b[1;32mimport\u001b[0m \u001b[0mbackend\u001b[0m\u001b[1;33m\u001b[0m\u001b[0m\n",
      "\u001b[0;32mC:\\Users\\Andrew\\Anaconda3\\lib\\site-packages\\keras\\activations.py\u001b[0m in \u001b[0;36m<module>\u001b[0;34m()\u001b[0m\n\u001b[1;32m      1\u001b[0m \u001b[1;32mfrom\u001b[0m \u001b[0m__future__\u001b[0m \u001b[1;32mimport\u001b[0m \u001b[0mabsolute_import\u001b[0m\u001b[1;33m\u001b[0m\u001b[0m\n\u001b[1;32m      2\u001b[0m \u001b[1;32mimport\u001b[0m \u001b[0msix\u001b[0m\u001b[1;33m\u001b[0m\u001b[0m\n\u001b[0;32m----> 3\u001b[0;31m \u001b[1;32mfrom\u001b[0m \u001b[1;33m.\u001b[0m \u001b[1;32mimport\u001b[0m \u001b[0mbackend\u001b[0m \u001b[1;32mas\u001b[0m \u001b[0mK\u001b[0m\u001b[1;33m\u001b[0m\u001b[0m\n\u001b[0m\u001b[1;32m      4\u001b[0m \u001b[1;32mfrom\u001b[0m \u001b[1;33m.\u001b[0m\u001b[0mutils\u001b[0m\u001b[1;33m.\u001b[0m\u001b[0mgeneric_utils\u001b[0m \u001b[1;32mimport\u001b[0m \u001b[0mdeserialize_keras_object\u001b[0m\u001b[1;33m\u001b[0m\u001b[0m\n\u001b[1;32m      5\u001b[0m \u001b[1;33m\u001b[0m\u001b[0m\n",
      "\u001b[0;32mC:\\Users\\Andrew\\Anaconda3\\lib\\site-packages\\keras\\backend\\__init__.py\u001b[0m in \u001b[0;36m<module>\u001b[0;34m()\u001b[0m\n\u001b[1;32m     71\u001b[0m \u001b[1;32melif\u001b[0m \u001b[0m_BACKEND\u001b[0m \u001b[1;33m==\u001b[0m \u001b[1;34m'tensorflow'\u001b[0m\u001b[1;33m:\u001b[0m\u001b[1;33m\u001b[0m\u001b[0m\n\u001b[1;32m     72\u001b[0m     \u001b[0msys\u001b[0m\u001b[1;33m.\u001b[0m\u001b[0mstderr\u001b[0m\u001b[1;33m.\u001b[0m\u001b[0mwrite\u001b[0m\u001b[1;33m(\u001b[0m\u001b[1;34m'Using TensorFlow backend.\\n'\u001b[0m\u001b[1;33m)\u001b[0m\u001b[1;33m\u001b[0m\u001b[0m\n\u001b[0;32m---> 73\u001b[0;31m     \u001b[1;32mfrom\u001b[0m \u001b[1;33m.\u001b[0m\u001b[0mtensorflow_backend\u001b[0m \u001b[1;32mimport\u001b[0m \u001b[1;33m*\u001b[0m\u001b[1;33m\u001b[0m\u001b[0m\n\u001b[0m\u001b[1;32m     74\u001b[0m \u001b[1;32melse\u001b[0m\u001b[1;33m:\u001b[0m\u001b[1;33m\u001b[0m\u001b[0m\n\u001b[1;32m     75\u001b[0m     \u001b[1;32mraise\u001b[0m \u001b[0mValueError\u001b[0m\u001b[1;33m(\u001b[0m\u001b[1;34m'Unknown backend: '\u001b[0m \u001b[1;33m+\u001b[0m \u001b[0mstr\u001b[0m\u001b[1;33m(\u001b[0m\u001b[0m_BACKEND\u001b[0m\u001b[1;33m)\u001b[0m\u001b[1;33m)\u001b[0m\u001b[1;33m\u001b[0m\u001b[0m\n",
      "\u001b[0;32mC:\\Users\\Andrew\\Anaconda3\\lib\\site-packages\\keras\\backend\\tensorflow_backend.py\u001b[0m in \u001b[0;36m<module>\u001b[0;34m()\u001b[0m\n\u001b[0;32m----> 1\u001b[0;31m \u001b[1;32mimport\u001b[0m \u001b[0mtensorflow\u001b[0m \u001b[1;32mas\u001b[0m \u001b[0mtf\u001b[0m\u001b[1;33m\u001b[0m\u001b[0m\n\u001b[0m\u001b[1;32m      2\u001b[0m \u001b[1;32mfrom\u001b[0m \u001b[0mtensorflow\u001b[0m\u001b[1;33m.\u001b[0m\u001b[0mpython\u001b[0m\u001b[1;33m.\u001b[0m\u001b[0mtraining\u001b[0m \u001b[1;32mimport\u001b[0m \u001b[0mmoving_averages\u001b[0m\u001b[1;33m\u001b[0m\u001b[0m\n\u001b[1;32m      3\u001b[0m \u001b[1;32mfrom\u001b[0m \u001b[0mtensorflow\u001b[0m\u001b[1;33m.\u001b[0m\u001b[0mpython\u001b[0m\u001b[1;33m.\u001b[0m\u001b[0mops\u001b[0m \u001b[1;32mimport\u001b[0m \u001b[0mtensor_array_ops\u001b[0m\u001b[1;33m\u001b[0m\u001b[0m\n\u001b[1;32m      4\u001b[0m \u001b[1;32mfrom\u001b[0m \u001b[0mtensorflow\u001b[0m\u001b[1;33m.\u001b[0m\u001b[0mpython\u001b[0m\u001b[1;33m.\u001b[0m\u001b[0mops\u001b[0m \u001b[1;32mimport\u001b[0m \u001b[0mcontrol_flow_ops\u001b[0m\u001b[1;33m\u001b[0m\u001b[0m\n\u001b[1;32m      5\u001b[0m \u001b[1;32mfrom\u001b[0m \u001b[0mtensorflow\u001b[0m\u001b[1;33m.\u001b[0m\u001b[0mpython\u001b[0m\u001b[1;33m.\u001b[0m\u001b[0mops\u001b[0m \u001b[1;32mimport\u001b[0m \u001b[0mfunctional_ops\u001b[0m\u001b[1;33m\u001b[0m\u001b[0m\n",
      "\u001b[0;31mModuleNotFoundError\u001b[0m: No module named 'tensorflow'"
     ]
    }
   ],
   "source": [
    "sys.path.insert(1,os.path.join(sys.path[0],'..'))\n",
    "\n",
    "from utils import *\n",
    "from vgg16 import Vgg16\n",
    "import numpy as np\n",
    "from glob import glob\n",
    "%matplotlib inline"
   ]
  },
  {
   "cell_type": "markdown",
   "metadata": {},
   "source": [
    "# Directory Creation"
   ]
  },
  {
   "cell_type": "code",
   "execution_count": 20,
   "metadata": {
    "collapsed": false,
    "scrolled": false
   },
   "outputs": [
    {
     "name": "stdout",
     "output_type": "stream",
     "text": [
      "[WinError 3] The system cannot find the path specified: 'C:\\\\cygwin64\\\\home\\\\Andrew\\\\ml\\\\state\\\\data\\\\drivers\\\\train\\\\c9/data/drivers/'\n",
      "C:\\cygwin64\\home\\Andrew\\ml\\state\\data\\drivers\\train\\c9\n"
     ]
    }
   ],
   "source": [
    "%cd $DATA_HOME_DIR\n",
    "%mkdir valid\n",
    "%mkdir results\n",
    "%mkdir sample\\train\n",
    "%mkdir sample\\test\n",
    "%mkdir sample\\valid\n",
    "%mkdir sample\\results\n",
    "%mkdir test\\unknown"
   ]
  },
  {
   "cell_type": "code",
   "execution_count": 21,
   "metadata": {
    "collapsed": false,
    "scrolled": true
   },
   "outputs": [
    {
     "name": "stdout",
     "output_type": "stream",
     "text": [
      "C:\\cygwin64\\home\\Andrew\\ml\\state\\data\\drivers\\train\\c9\\valid\n",
      "C:\\cygwin64\\home\\Andrew\\ml\\state\\data\\drivers\\train\\c9\n",
      "C:\\cygwin64\\home\\Andrew\\ml\\state\\data\\drivers\\train\\c9\\sample\\train\n",
      "C:\\cygwin64\\home\\Andrew\\ml\\state\\data\\drivers\\train\\c9\\sample\n",
      "C:\\cygwin64\\home\\Andrew\\ml\\state\\data\\drivers\\train\\c9\\sample\\valid\n",
      "C:\\cygwin64\\home\\Andrew\\ml\\state\\data\\drivers\\train\\c9\\sample\n"
     ]
    }
   ],
   "source": [
    "%cd valid\n",
    "%mkdir c0\n",
    "%mkdir c1\n",
    "%mkdir c2\n",
    "%mkdir c3\n",
    "%mkdir c4\n",
    "%mkdir c5\n",
    "%mkdir c6\n",
    "%mkdir c7\n",
    "%mkdir c8\n",
    "%mkdir c9\n",
    "\n",
    "%cd ..\n",
    "%cd sample\\train\n",
    "%mkdir c0\n",
    "%mkdir c1\n",
    "%mkdir c2\n",
    "%mkdir c3\n",
    "%mkdir c4\n",
    "%mkdir c5\n",
    "%mkdir c6\n",
    "%mkdir c7\n",
    "%mkdir c8\n",
    "%mkdir c9\n",
    "%cd ..\n",
    "%cd valid\n",
    "%mkdir c0\n",
    "%mkdir c1\n",
    "%mkdir c2\n",
    "%mkdir c3\n",
    "%mkdir c4\n",
    "%mkdir c5\n",
    "%mkdir c6\n",
    "%mkdir c7\n",
    "%mkdir c8\n",
    "%mkdir c9\n",
    "%cd .."
   ]
  },
  {
   "cell_type": "markdown",
   "metadata": {},
   "source": [
    "# Determine Validation Set Size"
   ]
  },
  {
   "cell_type": "code",
   "execution_count": 4,
   "metadata": {
    "collapsed": false
   },
   "outputs": [
    {
     "name": "stdout",
     "output_type": "stream",
     "text": [
      "C:\\cygwin64\\home\\Andrew\\ml\\state\\data\\drivers\\train\\c0\n",
      "C:\\cygwin64\\home\\Andrew\\ml\\state\\data\\drivers\\train\n",
      "C:\\cygwin64\\home\\Andrew\\ml\\state\\data\\drivers\\train\\c1\n",
      "C:\\cygwin64\\home\\Andrew\\ml\\state\\data\\drivers\\train\n",
      "C:\\cygwin64\\home\\Andrew\\ml\\state\\data\\drivers\\train\\c2\n",
      "C:\\cygwin64\\home\\Andrew\\ml\\state\\data\\drivers\\train\n",
      "C:\\cygwin64\\home\\Andrew\\ml\\state\\data\\drivers\\train\\c3\n",
      "C:\\cygwin64\\home\\Andrew\\ml\\state\\data\\drivers\\train\n",
      "C:\\cygwin64\\home\\Andrew\\ml\\state\\data\\drivers\\train\\c4\n",
      "C:\\cygwin64\\home\\Andrew\\ml\\state\\data\\drivers\\train\n",
      "C:\\cygwin64\\home\\Andrew\\ml\\state\\data\\drivers\\train\\c5\n",
      "C:\\cygwin64\\home\\Andrew\\ml\\state\\data\\drivers\\train\n",
      "C:\\cygwin64\\home\\Andrew\\ml\\state\\data\\drivers\\train\\c6\n",
      "C:\\cygwin64\\home\\Andrew\\ml\\state\\data\\drivers\\train\n",
      "C:\\cygwin64\\home\\Andrew\\ml\\state\\data\\drivers\\train\\c7\n",
      "C:\\cygwin64\\home\\Andrew\\ml\\state\\data\\drivers\\train\n",
      "C:\\cygwin64\\home\\Andrew\\ml\\state\\data\\drivers\\train\\c8\n",
      "C:\\cygwin64\\home\\Andrew\\ml\\state\\data\\drivers\\train\n",
      "C:\\cygwin64\\home\\Andrew\\ml\\state\\data\\drivers\\train\\c9\n",
      "C:\\cygwin64\\home\\Andrew\\ml\\state\\data\\drivers\\train\n"
     ]
    }
   ],
   "source": [
    "i = '0'\n",
    "FILES_DIR = DATA_HOME_DIR+'/train/'+'c'+i\n",
    "i =int(i)\n",
    "val_size = np.array([])\n",
    "train_size = np.array([])\n",
    "\n",
    "while i<10:\n",
    "    %cd $FILES_DIR\n",
    "    val_size = np.append(val_size,int(round(len(os.listdir())*0.2)))\n",
    "    train_size = np.append(train_size,len(os.listdir())-val_size[i])\n",
    "    %cd ..\n",
    "    i = int(i) +1\n",
    "    i = str(i)\n",
    "    FILES_DIR = DATA_HOME_DIR+'/train/'+'c'+i\n",
    "    i = int(i)"
   ]
  },
  {
   "cell_type": "code",
   "execution_count": 5,
   "metadata": {
    "collapsed": false
   },
   "outputs": [
    {
     "name": "stdout",
     "output_type": "stream",
     "text": [
      "[ 498.  453.  463.  469.  465.  462.  465.  400.  382.  426.]\n",
      "[ 1991.  1814.  1854.  1877.  1861.  1850.  1860.  1602.  1529.  1703.]\n",
      "2489.0\n"
     ]
    }
   ],
   "source": [
    "#val_size = np.delete(val_size,0)\n",
    "#train_size = np.delete(train_size,0)\n",
    "print(val_size)\n",
    "print(train_size)\n",
    "sum_check = val_size[0]+train_size[0]\n",
    "print(sum_check)"
   ]
  },
  {
   "cell_type": "markdown",
   "metadata": {},
   "source": [
    "# Create Validation Set"
   ]
  },
  {
   "cell_type": "code",
   "execution_count": 6,
   "metadata": {
    "collapsed": false
   },
   "outputs": [],
   "source": [
    "i = '0'\n",
    "FILES_DIR = DATA_HOME_DIR+'/train/'+'c'+i\n",
    "VAL_FILES = DATA_HOME_DIR+'/valid/'+'c'+i+'/'"
   ]
  },
  {
   "cell_type": "code",
   "execution_count": 7,
   "metadata": {
    "collapsed": false
   },
   "outputs": [],
   "source": [
    "from glob import glob\n",
    "\n",
    "t = '0'\n",
    "FILES_DIR = DATA_HOME_DIR+'/train/'+'c'+t\n",
    "VAL_FILES = DATA_HOME_DIR+'/valid/'+'c'+t+'/'\n",
    "\n",
    "a = 0"
   ]
  },
  {
   "cell_type": "code",
   "execution_count": 8,
   "metadata": {
    "collapsed": false
   },
   "outputs": [
    {
     "name": "stdout",
     "output_type": "stream",
     "text": [
      "C:\\cygwin64\\home\\Andrew\\ml\\state\\data\\drivers\\train\\c0\n",
      "C:\\cygwin64\\home\\Andrew\\ml\\state\\data\\drivers\\train\\c1\n",
      "C:\\cygwin64\\home\\Andrew\\ml\\state\\data\\drivers\\train\\c2\n",
      "C:\\cygwin64\\home\\Andrew\\ml\\state\\data\\drivers\\train\\c3\n",
      "C:\\cygwin64\\home\\Andrew\\ml\\state\\data\\drivers\\train\\c4\n",
      "C:\\cygwin64\\home\\Andrew\\ml\\state\\data\\drivers\\train\\c5\n",
      "C:\\cygwin64\\home\\Andrew\\ml\\state\\data\\drivers\\train\\c6\n",
      "C:\\cygwin64\\home\\Andrew\\ml\\state\\data\\drivers\\train\\c7\n",
      "C:\\cygwin64\\home\\Andrew\\ml\\state\\data\\drivers\\train\\c8\n",
      "C:\\cygwin64\\home\\Andrew\\ml\\state\\data\\drivers\\train\\c9\n"
     ]
    }
   ],
   "source": [
    "while a < 10:\n",
    "    %cd $FILES_DIR\n",
    "    g = glob('*.jpg')\n",
    "    shuf = np.random.permutation(g)\n",
    "    n = int(val_size[a])\n",
    "    for i in range(n): os.rename(shuf[i], VAL_FILES + shuf[i])\n",
    "    a = a + 1\n",
    "    t = int(t) +1\n",
    "    t = str(t)\n",
    "    FILES_DIR = DATA_HOME_DIR+'/train/'+'c'+t\n",
    "    VAL_FILES = DATA_HOME_DIR+'/valid/'+'c'+t+'/'\n",
    "    t = int(t)"
   ]
  },
  {
   "cell_type": "code",
   "execution_count": null,
   "metadata": {
    "collapsed": true
   },
   "outputs": [],
   "source": []
  }
 ],
 "metadata": {
  "kernelspec": {
   "display_name": "Python 3",
   "language": "python",
   "name": "python3"
  },
  "language_info": {
   "codemirror_mode": {
    "name": "ipython",
    "version": 3
   },
   "file_extension": ".py",
   "mimetype": "text/x-python",
   "name": "python",
   "nbconvert_exporter": "python",
   "pygments_lexer": "ipython3",
   "version": "3.6.0"
  }
 },
 "nbformat": 4,
 "nbformat_minor": 2
}
